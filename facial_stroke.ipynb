{
 "cells": [
  {
   "cell_type": "code",
   "execution_count": 1,
   "id": "ab448a31-03e5-44dd-89c6-fb0d8446a824",
   "metadata": {},
   "outputs": [],
   "source": [
    "import sys\n",
    "sys.path.append('./')\n",
    "\n",
    "from facenet_pytorch import MTCNN, InceptionResnetV1\n"
   ]
  },
  {
   "cell_type": "code",
   "execution_count": 2,
   "id": "2ceb1add-f398-4077-abfd-2a59957f60ef",
   "metadata": {},
   "outputs": [
    {
     "name": "stdout",
     "output_type": "stream",
     "text": [
      "Models are ready to use\n"
     ]
    }
   ],
   "source": [
    "mtcnn = MTCNN(image_size=160, margin=20)\n",
    "\n",
    "resnet = InceptionResnetV1(pretrained='vggface2').eval()\n",
    "\n",
    "print(\"Models are ready to use\")"
   ]
  },
  {
   "cell_type": "code",
   "execution_count": 3,
   "id": "e790b5e8-f970-40dc-a9e1-f7cea76352b6",
   "metadata": {},
   "outputs": [
    {
     "name": "stdout",
     "output_type": "stream",
     "text": [
      "saved\n"
     ]
    }
   ],
   "source": [
    "from PIL import Image\n",
    "\n",
    "img = Image.open(r\"C:\\Users\\shrpa\\Desktop\\Stroke_proj\\images\\OP01_02_DDK_PA_color.avi_253.jpg\")\n",
    "\n",
    "img_cropped = mtcnn(img, save_path=r\"C:\\Users\\shrpa\\Desktop\\Stroke_proj\\images\\updated_OP01_02_DDK_PA_color.avi_253.jpg\")\n",
    "\n",
    "img_embedding = resnet(img_cropped.unsqueeze(0))\n",
    "\n",
    "resnet.classify = True\n",
    "img_probs = resnet(img_cropped.unsqueeze(0))\n",
    "\n",
    "print(\"saved\")"
   ]
  },
  {
   "cell_type": "code",
   "execution_count": 4,
   "id": "9c7c01db-5cbc-48d0-9cdc-dee8c88e78aa",
   "metadata": {},
   "outputs": [
    {
     "name": "stdout",
     "output_type": "stream",
     "text": [
      "Check git\n"
     ]
    }
   ],
   "source": [
    "print(\"Check git\")"
   ]
  }
 ],
 "metadata": {
  "kernelspec": {
   "display_name": "Python [conda env:base] *",
   "language": "python",
   "name": "conda-base-py"
  },
  "language_info": {
   "codemirror_mode": {
    "name": "ipython",
    "version": 3
   },
   "file_extension": ".py",
   "mimetype": "text/x-python",
   "name": "python",
   "nbconvert_exporter": "python",
   "pygments_lexer": "ipython3",
   "version": "3.12.7"
  }
 },
 "nbformat": 4,
 "nbformat_minor": 5
}
